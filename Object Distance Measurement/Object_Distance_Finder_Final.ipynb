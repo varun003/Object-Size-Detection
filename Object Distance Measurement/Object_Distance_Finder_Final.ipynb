{
 "cells": [
  {
   "cell_type": "code",
   "execution_count": 1,
   "id": "cd71853f",
   "metadata": {},
   "outputs": [],
   "source": [
    "import cv2\n",
    "import numpy as np"
   ]
  },
  {
   "cell_type": "code",
   "execution_count": 2,
   "id": "3afe197b",
   "metadata": {},
   "outputs": [],
   "source": [
    "def object(img):\n",
    "    \n",
    "    width = 0\n",
    "    \n",
    "    img = cv2.resize(img,(0,0),None,0.3,0.3)\n",
    "    gray = cv2.cvtColor(img,cv2.COLOR_BGR2GRAY)\n",
    "    blur = cv2.GaussianBlur(gray,(9,9),0)\n",
    "    edged = cv2.Canny(blur,50,100)\n",
    "    edged = cv2.dilate(edged,None,iterations=2)\n",
    "    edged = cv2.erode(edged,None,iterations=2)\n",
    "\n",
    "    threshold = 50\n",
    "\n",
    "    ret,thresh_img = cv2.threshold(edged,threshold,255,cv2.THRESH_BINARY)\n",
    "    cnts,hierarchy = cv2.findContours(edged,cv2.RETR_EXTERNAL,cv2.CHAIN_APPROX_SIMPLE)\n",
    "    cnts = [x for x in cnts if cv2.contourArea(x) > 10000]\n",
    "\n",
    "\n",
    "    cv2.drawContours(img,cnts,-1,(0,0,255),2)\n",
    "    c = max(cnts,key = cv2.contourArea)\n",
    "\n",
    "    x,y,w,h = cv2.boundingRect(c)\n",
    "\n",
    "    cv2.rectangle(img,(x,y),(x+w,y+h),(255,255,255),2)\n",
    "    \n",
    "    width = w\n",
    "    \n",
    "    return width"
   ]
  },
  {
   "cell_type": "code",
   "execution_count": 3,
   "id": "66bd9a12",
   "metadata": {},
   "outputs": [],
   "source": [
    "## Focal Length\n",
    "\n",
    "def FocalLength(measured_distance,real_width,width_in_pixel):\n",
    "    focal_length = (width_in_pixel*measured_distance)/real_width\n",
    "    return focal_length"
   ]
  },
  {
   "cell_type": "code",
   "execution_count": 4,
   "id": "d14e995a",
   "metadata": {},
   "outputs": [],
   "source": [
    "## Distance Finder\n",
    "def DistanceFinder(focal_length,known_width,width_in_pixel):\n",
    "    distance = (known_width*focal_length)/width_in_pixel\n",
    "    return distance"
   ]
  },
  {
   "cell_type": "code",
   "execution_count": 5,
   "id": "2db49db5",
   "metadata": {},
   "outputs": [
    {
     "name": "stdout",
     "output_type": "stream",
     "text": [
      "106\n"
     ]
    }
   ],
   "source": [
    "image = cv2.imread('images/image1.jpg')\n",
    "\n",
    "width_in_pixel = object(image)\n",
    "print(width_in_pixel)"
   ]
  },
  {
   "cell_type": "code",
   "execution_count": 6,
   "id": "fda82679",
   "metadata": {},
   "outputs": [
    {
     "name": "stdout",
     "output_type": "stream",
     "text": [
      "454\n"
     ]
    }
   ],
   "source": [
    "known_distance = 30\n",
    "known_width = 7\n",
    "\n",
    "focal_length = FocalLength(known_distance,known_width,width_in_pixel)\n",
    "\n",
    "focal_length = int(focal_length)\n",
    "\n",
    "print(focal_length)\n",
    "# print(type(focal_length))"
   ]
  },
  {
   "cell_type": "code",
   "execution_count": 7,
   "id": "45f375a8",
   "metadata": {},
   "outputs": [
    {
     "name": "stdout",
     "output_type": "stream",
     "text": [
      "29.9811320754717\n"
     ]
    }
   ],
   "source": [
    "distance = DistanceFinder(focal_length,known_width,width_in_pixel)\n",
    "print(distance)"
   ]
  },
  {
   "cell_type": "code",
   "execution_count": null,
   "id": "81dda5b2",
   "metadata": {},
   "outputs": [],
   "source": []
  },
  {
   "cell_type": "code",
   "execution_count": null,
   "id": "b0a7ec4e",
   "metadata": {},
   "outputs": [],
   "source": []
  },
  {
   "cell_type": "code",
   "execution_count": null,
   "id": "d24167c0",
   "metadata": {},
   "outputs": [],
   "source": []
  },
  {
   "cell_type": "code",
   "execution_count": null,
   "id": "aea16909",
   "metadata": {},
   "outputs": [],
   "source": []
  },
  {
   "cell_type": "code",
   "execution_count": null,
   "id": "ba032f32",
   "metadata": {},
   "outputs": [],
   "source": []
  }
 ],
 "metadata": {
  "kernelspec": {
   "display_name": "Python 3 (ipykernel)",
   "language": "python",
   "name": "python3"
  },
  "language_info": {
   "codemirror_mode": {
    "name": "ipython",
    "version": 3
   },
   "file_extension": ".py",
   "mimetype": "text/x-python",
   "name": "python",
   "nbconvert_exporter": "python",
   "pygments_lexer": "ipython3",
   "version": "3.9.7"
  }
 },
 "nbformat": 4,
 "nbformat_minor": 5
}
