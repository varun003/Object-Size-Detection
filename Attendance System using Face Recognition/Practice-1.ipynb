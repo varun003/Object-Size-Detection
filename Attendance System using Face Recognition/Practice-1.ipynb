{
 "cells": [
  {
   "cell_type": "code",
   "execution_count": 2,
   "id": "5d81de5f",
   "metadata": {},
   "outputs": [],
   "source": [
    "import numpy as np\n",
    "import cv2\n",
    "import face_recognition"
   ]
  },
  {
   "cell_type": "code",
   "execution_count": null,
   "id": "3ca6618a",
   "metadata": {},
   "outputs": [],
   "source": [
    "# pip install face recognition\n",
    "\n",
    "img_bgr = face_recognition.load_image_file('image/image5.jpg')\n",
    "img_rgb = cv2.cvtColor(img_bgr,cv2.COLOR_BGR2RGB)\n",
    "\n",
    "cv2.imshow('bgr',img_bgr)\n",
    "cv2.imshow('rgb',img_rgb)\n",
    "\n",
    "cv2.waitKey(0)\n",
    "cv2.destroyAllWindows()\n"
   ]
  },
  {
   "cell_type": "code",
   "execution_count": 3,
   "id": "5e78483d",
   "metadata": {},
   "outputs": [],
   "source": [
    "## finding face locations and drawing Bounding Boxes\n",
    "\n",
    "img = face_recognition.load_image_file('image/image5.jpg')\n",
    "img = cv2.cvtColor(img,cv2.COLOR_BGR2RGB)\n",
    "img = cv2.resize(img,(360,360))\n",
    "\n",
    "# finding face locations for BB\n",
    "face = face_recognition.face_locations(img)[0]\n",
    "\n",
    "copy = img.copy()\n",
    "\n",
    "# drawing rectangles\n",
    "cv2.rectangle(copy,(face[3],face[0]),(face[1],face[2]),(255,0,255),2)\n",
    "\n",
    "cv2.imshow('copy',copy)\n",
    "cv2.imshow('burry',img)\n",
    "\n",
    "cv2.waitKey(0)\n",
    "cv2.destroyAllWindows()"
   ]
  },
  {
   "cell_type": "code",
   "execution_count": null,
   "id": "f8fe01c1",
   "metadata": {},
   "outputs": [],
   "source": [
    "## training an image for Face Recognition\n",
    "\n",
    "train_encodings = face_recognition.face_encodings(img)[0]"
   ]
  },
  {
   "cell_type": "code",
   "execution_count": null,
   "id": "3b3c2ca5",
   "metadata": {},
   "outputs": [],
   "source": [
    "## testing on Image\n",
    "\n",
    "test = face_recognition.load_image_file('image/image4.jpg')\n",
    "test = cv2.cvtColor(test,cv2.COLOR_BGR2RGB)\n",
    "test = cv2.resize(test,(360,360))\n",
    "\n",
    "test_encode = face_recognition.face_encodings(test)[0]\n",
    "print(face_recognition.compare_faces([train_encodings],test_encode))"
   ]
  },
  {
   "cell_type": "code",
   "execution_count": 1,
   "id": "3b7f2bc8",
   "metadata": {},
   "outputs": [],
   "source": [
    "## Building face recognition system\n",
    "\n",
    "import cv2\n",
    "import numpy as np\n",
    "import face_recognition\n",
    "import os\n",
    "import pickle\n",
    "from datetime import datetime\n",
    "\n",
    "# function to loop in all the images in the folder and append .jpg from their names\n",
    "\n",
    "path = 'images'\n",
    "images = []\n",
    "classNames = []\n",
    "\n",
    "myList = os.listdir(path)\n",
    "# print(myList)\n",
    "for cl in myList:\n",
    "    curImg = cv2.imread(f'{path}/{cl}')\n",
    "    images.append(curImg)\n",
    "    classNames.append(os.path.splitext(cl)[0])\n",
    "# print(classNames)"
   ]
  },
  {
   "cell_type": "code",
   "execution_count": 2,
   "id": "febf7e6e",
   "metadata": {},
   "outputs": [],
   "source": [
    "## function to encode all images and store them in a variable \\\n",
    "\n",
    "from codecs import EncodedFile\n",
    "\n",
    "\n",
    "def findEncoding(images):\n",
    "    encodingList = []\n",
    "    for img in images:\n",
    "        img = cv2.cvtColor(img,cv2.COLOR_BGR2RGB)\n",
    "        img = cv2.resize(img,(360,360))\n",
    "        encoded_face = face_recognition.face_encodings(img)[0]\n",
    "        encodingList.append(encoded_face)\n",
    "    return encodingList\n",
    "\n",
    "encode_train = findEncoding(images)"
   ]
  },
  {
   "cell_type": "code",
   "execution_count": 3,
   "id": "dad80505",
   "metadata": {},
   "outputs": [],
   "source": [
    "## Creating attendance.csv file to store the attendance with time\n",
    "\n",
    "def attendance(name):\n",
    "    with open('attendance.csv','r+') as f:\n",
    "        myDataList = f.readlines()\n",
    "        nameList = []\n",
    "        for line in myDataList:\n",
    "            entry = line.split(',')\n",
    "            nameList.append(entry[0])\n",
    "        if name not in nameList:\n",
    "            now = datetime.now()\n",
    "            time = now.strftime('%I:%M:%S:%p')\n",
    "            date = now.strftime('%d-%B-%Y')\n",
    "            f.writelines(f'n{name}, {time}, {date}')\n"
   ]
  },
  {
   "cell_type": "code",
   "execution_count": 4,
   "id": "8ca30082",
   "metadata": {},
   "outputs": [
    {
     "ename": "",
     "evalue": "",
     "output_type": "error",
     "traceback": [
      "\u001b[1;31mThe Kernel crashed while executing code in the the current cell or a previous cell. Please review the code in the cell(s) to identify a possible cause of the failure. Click <a href='https://aka.ms/vscodeJupyterKernelCrash'>here</a> for more info. View Jupyter <a href='command:jupyter.viewOutput'>log</a> for further details."
     ]
    }
   ],
   "source": [
    "# Real webcam for Real-time recognition\n",
    "\n",
    "cap = cv2.VideoCapture(0)\n",
    "\n",
    "while True:\n",
    "\n",
    "    success,img = cap.read()\n",
    "    imgs = cv2.resize(img,(0,0),None,0.25,0.25)\n",
    "    imgs = cv2.cvtColor(imgs,cv2.COLOR_BGR2RGB)\n",
    "    loc_face = face_recognition.face_locations(imgs)\n",
    "    encode_face = face_recognition.face_encodings(imgs,loc_face)\n",
    "\n",
    "    for face_encode,face_loc in zip(encode_face,loc_face):\n",
    "        match = face_recognition.compare_faces(encode_train,face_encode)\n",
    "        faceDist = face_recognition.face_distance(encode_train,face_encode)\n",
    "        matchIndex = np.argmin(faceDist)\n",
    "        # print(matchIndex)\n",
    "\n",
    "        if match[matchIndex]:\n",
    "            name = classNames[matchIndex].upper().lower()\n",
    "            y1,x2,y2,x1 = face_loc\n",
    "\n",
    "\n",
    "            # since we have scaled down 3 times\n",
    "            y1,x2,y2,x1 = y1*4,x2*4,y2*4,x1*4\n",
    "            cv2.rectangle(img,(x1,y1),(x2,y2),(0,255,0),2)\n",
    "            cv2.rectangle(img,(x1,y2-35),(x2,y2),(0,255,0),cv2.FILLED)\n",
    "            cv2.putText(img,name,(x1+6,y2-5),cv2.FONT_HERSHEY_COMPLEX,1,(255,255,255),2)\n",
    "\n",
    "            attendance(name)\n",
    "    cv2.imshow('output',img)\n",
    "    if cv2.waitKey(1) & 0xFF == ord('q'):\n",
    "        break\n",
    "\n"
   ]
  },
  {
   "cell_type": "code",
   "execution_count": null,
   "id": "707ceb85",
   "metadata": {},
   "outputs": [],
   "source": []
  },
  {
   "cell_type": "code",
   "execution_count": null,
   "id": "045f37b7",
   "metadata": {},
   "outputs": [],
   "source": []
  },
  {
   "cell_type": "code",
   "execution_count": null,
   "id": "60b294b5",
   "metadata": {},
   "outputs": [],
   "source": []
  },
  {
   "cell_type": "code",
   "execution_count": null,
   "id": "74c16918",
   "metadata": {},
   "outputs": [],
   "source": []
  },
  {
   "cell_type": "code",
   "execution_count": null,
   "id": "b4e7d3e7",
   "metadata": {},
   "outputs": [],
   "source": []
  },
  {
   "cell_type": "code",
   "execution_count": null,
   "id": "1ecb1622",
   "metadata": {},
   "outputs": [],
   "source": []
  }
 ],
 "metadata": {
  "kernelspec": {
   "display_name": "Python 3 (ipykernel)",
   "language": "python",
   "name": "python3"
  },
  "language_info": {
   "codemirror_mode": {
    "name": "ipython",
    "version": 3
   },
   "file_extension": ".py",
   "mimetype": "text/x-python",
   "name": "python",
   "nbconvert_exporter": "python",
   "pygments_lexer": "ipython3",
   "version": "3.10.2"
  },
  "vscode": {
   "interpreter": {
    "hash": "433e54b86544093cc0334d9ffd9940cd4d3deb99abb8ddb9c2b3573d159431f4"
   }
  }
 },
 "nbformat": 4,
 "nbformat_minor": 5
}
